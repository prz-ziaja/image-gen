{
 "cells": [
  {
   "cell_type": "code",
   "execution_count": 36,
   "metadata": {},
   "outputs": [],
   "source": [
    "import torch\n",
    "import numpy as np\n",
    "import matplotlib.pyplot as plt\n",
    "import torch_geometric as tg\n",
    "import torch_geometric.utils as tgu"
   ]
  },
  {
   "cell_type": "code",
   "execution_count": 54,
   "metadata": {},
   "outputs": [],
   "source": [
    "image = torch.from_numpy(np.random.random([2,1,32,32])*128)\n",
    "category = torch.zeros(2,10)\n",
    "category[:,1] = 1\n",
    "timestep = torch.zeros(2,1)\n",
    "timestep[:,0] = 25"
   ]
  },
  {
   "cell_type": "code",
   "execution_count": 70,
   "metadata": {},
   "outputs": [
    {
     "data": {
      "text/plain": [
       "torch.Size([2, 1, 32, 32])"
      ]
     },
     "execution_count": 70,
     "metadata": {},
     "output_type": "execute_result"
    }
   ],
   "source": [
    "image.shape"
   ]
  },
  {
   "cell_type": "code",
   "execution_count": 56,
   "metadata": {},
   "outputs": [
    {
     "name": "stdout",
     "output_type": "stream",
     "text": [
      "torch.Size([1, 32, 32])\n"
     ]
    }
   ],
   "source": [
    "cord_x = torch.arange(image.shape[-1]).repeat(image.shape[-2], 1)[None]\n",
    "cord_y = torch.arange(image.shape[-2]).repeat(image.shape[-1], 1).T[None]\n",
    "print(cord_x.shape)"
   ]
  },
  {
   "cell_type": "code",
   "execution_count": 74,
   "metadata": {},
   "outputs": [],
   "source": [
    "def process_image(_image):\n",
    "    image = _image.reshape([4,16,16])\n",
    "    cord_x = torch.arange(image.shape[-1]).repeat(image.shape[-2], 1)[None]/64\n",
    "    cord_y = torch.arange(image.shape[-2]).repeat(image.shape[-1], 1).T[None]/64\n",
    "    processed = torch.cat([image, cord_x, cord_y])\n",
    "    return processed.flatten(start_dim=1).T\n",
    "\n",
    "def build_gnn_batch(**kwargs):\n",
    "    print({k:v.shape for k,v in kwargs.items()})\n",
    "    batch_size = list(kwargs.values())[0].shape[0]\n",
    "    samples = [tg.data.HeteroData() for _ in range(batch_size)]\n",
    "    # for arg_name, values in kwargs.items():\n",
    "\n",
    "    for sample, value in zip(samples, kwargs[\"x\"]):\n",
    "        node_feats = process_image(value)\n",
    "        print('111 ',node_feats.shape)\n",
    "        sample[\"x\"].x = node_feats\n",
    "        adj = torch.ones(node_feats.shape[0], node_feats.shape[0])\n",
    "        sample[\"x\", 'to', \"x\"].edge_index = tgu.dense_to_sparse(adj)\n",
    "\n",
    "    for arg_name in ['t', 'cat']:\n",
    "        for sample, value in zip(samples, kwargs[arg_name]):\n",
    "            sample[arg_name].x = value[None]\n",
    "            adj = torch.ones(1, sample[\"x\"].x.shape[0])\n",
    "            sample[arg_name, 'to', \"x\"].edge_index = tgu.dense_to_sparse(adj)\n",
    "    \n",
    "    return tg.data.Batch.from_data_list(samples)\n",
    "    \n",
    "\n",
    "def extract_prediction(x_batch):\n",
    "    return x_batch.reshape([-1,16,16,4]).permute([0,3,1,2]).reshape([-1,1,32,32])\n",
    "    "
   ]
  },
  {
   "cell_type": "code",
   "execution_count": 75,
   "metadata": {},
   "outputs": [
    {
     "name": "stdout",
     "output_type": "stream",
     "text": [
      "{'x': torch.Size([2, 1, 32, 32]), 'cat': torch.Size([2, 10]), 't': torch.Size([2, 1])}\n",
      "111  torch.Size([256, 6])\n",
      "111  torch.Size([256, 6])\n"
     ]
    }
   ],
   "source": [
    "oo = build_gnn_batch(\n",
    "    x=image,\n",
    "    cat=category,\n",
    "    t=timestep\n",
    ")"
   ]
  },
  {
   "cell_type": "code",
   "execution_count": 76,
   "metadata": {},
   "outputs": [
    {
     "data": {
      "text/plain": [
       "tensor([[[[True, True, True,  ..., True, True, True],\n",
       "          [True, True, True,  ..., True, True, True],\n",
       "          [True, True, True,  ..., True, True, True],\n",
       "          ...,\n",
       "          [True, True, True,  ..., True, True, True],\n",
       "          [True, True, True,  ..., True, True, True],\n",
       "          [True, True, True,  ..., True, True, True]]],\n",
       "\n",
       "\n",
       "        [[[True, True, True,  ..., True, True, True],\n",
       "          [True, True, True,  ..., True, True, True],\n",
       "          [True, True, True,  ..., True, True, True],\n",
       "          ...,\n",
       "          [True, True, True,  ..., True, True, True],\n",
       "          [True, True, True,  ..., True, True, True],\n",
       "          [True, True, True,  ..., True, True, True]]]])"
      ]
     },
     "execution_count": 76,
     "metadata": {},
     "output_type": "execute_result"
    }
   ],
   "source": [
    "extract_prediction(oo['x'].x[:, :4]) == image"
   ]
  },
  {
   "cell_type": "code",
   "execution_count": 64,
   "metadata": {},
   "outputs": [
    {
     "data": {
      "text/plain": [
       "torch.Size([2, 131072])"
      ]
     },
     "execution_count": 64,
     "metadata": {},
     "output_type": "execute_result"
    }
   ],
   "source": [
    "oo['x', 'to', 'x'].edge_index[0].shape"
   ]
  },
  {
   "cell_type": "code",
   "execution_count": 65,
   "metadata": {},
   "outputs": [
    {
     "data": {
      "text/plain": [
       "torch.float64"
      ]
     },
     "execution_count": 65,
     "metadata": {},
     "output_type": "execute_result"
    }
   ],
   "source": [
    "oo['x'].x.dtype"
   ]
  },
  {
   "cell_type": "code",
   "execution_count": 66,
   "metadata": {},
   "outputs": [
    {
     "data": {
      "text/plain": [
       "tensor([[  0,   0,   0,  ..., 511, 511, 511],\n",
       "        [  0,   1,   2,  ..., 509, 510, 511]])"
      ]
     },
     "execution_count": 66,
     "metadata": {},
     "output_type": "execute_result"
    }
   ],
   "source": [
    "oo.edge_index_dict['x', 'to', 'x'][0]"
   ]
  },
  {
   "cell_type": "code",
   "execution_count": 69,
   "metadata": {},
   "outputs": [
    {
     "data": {
      "text/plain": [
       "torch.Size([3, 1, 32, 32])"
      ]
     },
     "execution_count": 69,
     "metadata": {},
     "output_type": "execute_result"
    }
   ],
   "source": [
    "extract_prediction(oo['x'].x).shape"
   ]
  },
  {
   "cell_type": "code",
   "execution_count": 72,
   "metadata": {},
   "outputs": [
    {
     "data": {
      "text/plain": [
       "torch.Size([512, 6])"
      ]
     },
     "execution_count": 72,
     "metadata": {},
     "output_type": "execute_result"
    }
   ],
   "source": [
    "oo['x'].x.shape"
   ]
  },
  {
   "cell_type": "code",
   "execution_count": null,
   "metadata": {},
   "outputs": [],
   "source": []
  }
 ],
 "metadata": {
  "kernelspec": {
   "display_name": "RESEARCH",
   "language": "python",
   "name": "python3"
  },
  "language_info": {
   "codemirror_mode": {
    "name": "ipython",
    "version": 3
   },
   "file_extension": ".py",
   "mimetype": "text/x-python",
   "name": "python",
   "nbconvert_exporter": "python",
   "pygments_lexer": "ipython3",
   "version": "3.11.10"
  }
 },
 "nbformat": 4,
 "nbformat_minor": 2
}
